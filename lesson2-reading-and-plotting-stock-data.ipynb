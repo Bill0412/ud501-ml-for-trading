{
 "cells": [
  {
   "cell_type": "markdown",
   "id": "371bf27f-ba5a-4673-8624-6fe433fd5a16",
   "metadata": {},
   "source": [
    "# Lesson 2 Reading and Plotting Stock Data"
   ]
  },
  {
   "cell_type": "markdown",
   "id": "5b126f7c-6aad-48b1-a483-7a95681d3e66",
   "metadata": {},
   "source": [
    "## Read CSV"
   ]
  },
  {
   "cell_type": "code",
   "execution_count": 14,
   "id": "b6ecd27a-d393-4a25-99cc-f37d0e3e98df",
   "metadata": {},
   "outputs": [
    {
     "name": "stdout",
     "output_type": "stream",
     "text": [
      "Requirement already satisfied: pandas in /Users/fenghexu/opt/anaconda3/envs/ml-for-trading/lib/python3.8/site-packages (1.3.5)\n",
      "Requirement already satisfied: pytz>=2017.3 in /Users/fenghexu/opt/anaconda3/envs/ml-for-trading/lib/python3.8/site-packages (from pandas) (2021.3)\n",
      "Requirement already satisfied: numpy>=1.17.3 in /Users/fenghexu/opt/anaconda3/envs/ml-for-trading/lib/python3.8/site-packages (from pandas) (1.21.5)\n",
      "Requirement already satisfied: python-dateutil>=2.7.3 in /Users/fenghexu/opt/anaconda3/envs/ml-for-trading/lib/python3.8/site-packages (from pandas) (2.8.2)\n",
      "Requirement already satisfied: six>=1.5 in /Users/fenghexu/opt/anaconda3/envs/ml-for-trading/lib/python3.8/site-packages (from python-dateutil>=2.7.3->pandas) (1.16.0)\n",
      "Note: you may need to restart the kernel to use updated packages.\n"
     ]
    }
   ],
   "source": [
    "%pip install pandas"
   ]
  },
  {
   "cell_type": "code",
   "execution_count": 8,
   "id": "ace5f680-4789-4a66-8eb7-e80db5c7c758",
   "metadata": {},
   "outputs": [
    {
     "name": "stdout",
     "output_type": "stream",
     "text": [
      "            Date       Open       High        Low      Close  Adj Close  \\\n",
      "3169  2012-09-05  24.127501  24.155357  23.914286  23.936787  20.610680   \n",
      "3170  2012-09-06  24.041786  24.224644  23.957144  24.152500  20.796417   \n",
      "3171  2012-09-07  24.216070  24.374287  24.134644  24.301430  20.924652   \n",
      "3172  2012-09-10  24.301786  24.403214  23.646429  23.669287  20.380350   \n",
      "3173  2012-09-11  23.753929  23.932142  23.446428  23.592501  20.314236   \n",
      "\n",
      "         Volume  \n",
      "3169  336375200  \n",
      "3170  391196400  \n",
      "3171  329666400  \n",
      "3172  487998000  \n",
      "3173  503983200  \n"
     ]
    }
   ],
   "source": [
    "import pandas as pd\n",
    "\n",
    "\n",
    "def test_run():\n",
    "    \"\"\"Function called by Test Run.\"\"\"\n",
    "    df = pd.read_csv(\"data/AAPL.csv\")\n",
    "    # TODO: Print last 5 rows of the data frame\n",
    "    print(df.tail())\n",
    "\n",
    "\n",
    "if __name__ == \"__main__\":\n",
    "    test_run()"
   ]
  },
  {
   "cell_type": "markdown",
   "id": "f11b1b50-ba2c-4cec-95fe-f52051cf5898",
   "metadata": {},
   "source": [
    "## Compute max closing price"
   ]
  },
  {
   "cell_type": "code",
   "execution_count": 10,
   "id": "267e8e8c-4c37-489b-8920-cc2027cf5e5f",
   "metadata": {},
   "outputs": [
    {
     "name": "stdout",
     "output_type": "stream",
     "text": [
      "Max Close\n",
      "AAPL 24.30143\n",
      "Max Close\n",
      "IBM 200.286804\n"
     ]
    }
   ],
   "source": [
    "import pandas as pd\n",
    "\n",
    "def get_max_close(symbol):\n",
    "\tdf = pd.read_csv(\"data/{}.csv\".format(symbol))\n",
    "\treturn df[\"Close\"].max()\n",
    "\n",
    "def test_run():\n",
    "\tfor symbol in ['AAPL', 'IBM']:\n",
    "\t\tprint(\"Max Close\")\n",
    "\t\tprint(symbol, get_max_close(symbol))\n",
    "\n",
    "if __name__ == \"__main__\":\n",
    "\ttest_run()"
   ]
  },
  {
   "cell_type": "markdown",
   "id": "bc998737-1415-4dee-816f-7c251a58a51d",
   "metadata": {},
   "source": [
    "## Compute mean volume"
   ]
  },
  {
   "cell_type": "code",
   "execution_count": 11,
   "id": "55664247-2bdd-46e3-b698-551cadc9b0a3",
   "metadata": {},
   "outputs": [
    {
     "name": "stdout",
     "output_type": "stream",
     "text": [
      "Mean Volume\n",
      "AAPL 601714566.7296786\n",
      "Mean Volume\n",
      "IBM 7431885.165299685\n"
     ]
    }
   ],
   "source": [
    "\"\"\"Compute mean volume\"\"\"\n",
    "\n",
    "import pandas as pd\n",
    "\n",
    "def get_mean_volume(symbol):\n",
    "    \"\"\"Return the mean volume for stock indicated by symbol.\n",
    "    \n",
    "    Note: Data for a stock is stored in file: data/<symbol>.csv\n",
    "    \"\"\"\n",
    "    df = pd.read_csv(\"data/{}.csv\".format(symbol))  # read in data\n",
    "    # TODO: Compute and return the mean volume for this stock\n",
    "    # print df.tail\n",
    "    return df[\"Volume\"].mean()\n",
    "\n",
    "def test_run():\n",
    "    \"\"\"Function called by Test Run.\"\"\"\n",
    "    for symbol in ['AAPL', 'IBM']:\n",
    "        print(\"Mean Volume\")\n",
    "        print(symbol, get_mean_volume(symbol))\n",
    "\n",
    "\n",
    "if __name__ == \"__main__\":\n",
    "    test_run()"
   ]
  },
  {
   "cell_type": "markdown",
   "id": "0d35f87f-4d46-4a8e-8fca-6a8b386bb15f",
   "metadata": {
    "tags": []
   },
   "source": [
    "## Plotting stock price data"
   ]
  },
  {
   "cell_type": "code",
   "execution_count": 15,
   "id": "3fe2fcd0-4931-4d1f-bcf7-9071ce31b88e",
   "metadata": {},
   "outputs": [
    {
     "name": "stdout",
     "output_type": "stream",
     "text": [
      "Requirement already satisfied: matplotlib in /Users/fenghexu/opt/anaconda3/envs/ml-for-trading/lib/python3.8/site-packages (3.5.1)\n",
      "Requirement already satisfied: packaging>=20.0 in /Users/fenghexu/opt/anaconda3/envs/ml-for-trading/lib/python3.8/site-packages (from matplotlib) (21.3)\n",
      "Requirement already satisfied: fonttools>=4.22.0 in /Users/fenghexu/opt/anaconda3/envs/ml-for-trading/lib/python3.8/site-packages (from matplotlib) (4.28.5)\n",
      "Requirement already satisfied: python-dateutil>=2.7 in /Users/fenghexu/opt/anaconda3/envs/ml-for-trading/lib/python3.8/site-packages (from matplotlib) (2.8.2)\n",
      "Requirement already satisfied: cycler>=0.10 in /Users/fenghexu/opt/anaconda3/envs/ml-for-trading/lib/python3.8/site-packages (from matplotlib) (0.11.0)\n",
      "Requirement already satisfied: numpy>=1.17 in /Users/fenghexu/opt/anaconda3/envs/ml-for-trading/lib/python3.8/site-packages (from matplotlib) (1.21.5)\n",
      "Requirement already satisfied: pyparsing>=2.2.1 in /Users/fenghexu/opt/anaconda3/envs/ml-for-trading/lib/python3.8/site-packages (from matplotlib) (3.0.6)\n",
      "Requirement already satisfied: kiwisolver>=1.0.1 in /Users/fenghexu/opt/anaconda3/envs/ml-for-trading/lib/python3.8/site-packages (from matplotlib) (1.3.2)\n",
      "Requirement already satisfied: pillow>=6.2.0 in /Users/fenghexu/opt/anaconda3/envs/ml-for-trading/lib/python3.8/site-packages (from matplotlib) (8.4.0)\n",
      "Requirement already satisfied: six>=1.5 in /Users/fenghexu/opt/anaconda3/envs/ml-for-trading/lib/python3.8/site-packages (from python-dateutil>=2.7->matplotlib) (1.16.0)\n",
      "Note: you may need to restart the kernel to use updated packages.\n"
     ]
    }
   ],
   "source": [
    "%pip install matplotlib"
   ]
  },
  {
   "cell_type": "code",
   "execution_count": 17,
   "id": "0937dc99-47f1-4c94-a789-f083131b8bae",
   "metadata": {},
   "outputs": [
    {
     "name": "stdout",
     "output_type": "stream",
     "text": [
      "0        0.767418\n",
      "1        0.756414\n",
      "2        0.790862\n",
      "3        0.826745\n",
      "4        0.873154\n",
      "          ...    \n",
      "3169    20.610680\n",
      "3170    20.796417\n",
      "3171    20.924652\n",
      "3172    20.380350\n",
      "3173    20.314236\n",
      "Name: Adj Close, Length: 3174, dtype: float64\n"
     ]
    },
    {
     "data": {
      "image/png": "[encoded data removed]",
      "text/plain": [
       "<Figure size 432x288 with 1 Axes>"
      ]
     },
     "metadata": {
      "needs_background": "light"
     },
     "output_type": "display_data"
    }
   ],
   "source": [
    "import pandas as pd\n",
    "import matplotlib.pyplot as plt\n",
    "\n",
    "def test_run():\n",
    "\tdf = pd.read_csv(\"data/AAPL.csv\")\n",
    "\tprint(df['Adj Close'])\n",
    "\tdf['Adj Close'].plot()\n",
    "\tplt.show()\n",
    "\n",
    "if __name__ == '__main__':\n",
    "\ttest_run()"
   ]
  },
  {
   "cell_type": "markdown",
   "id": "7d1b3f02-0667-45ad-862c-96a36790b9a4",
   "metadata": {},
   "source": [
    "## Plot high prices for IBM"
   ]
  },
  {
   "cell_type": "code",
   "execution_count": 18,
   "id": "e56dc259-110e-4263-962b-b1292bde22da",
   "metadata": {},
   "outputs": [
    {
     "data": {
      "image/png": "[encoded data removed]",
      "text/plain": [
       "<Figure size 432x288 with 1 Axes>"
      ]
     },
     "metadata": {
      "needs_background": "light"
     },
     "output_type": "display_data"
    }
   ],
   "source": [
    "\"\"\"Plot High prices for IBM\"\"\"\n",
    "\n",
    "import pandas as pd\n",
    "import matplotlib.pyplot as plt\n",
    "\n",
    "def test_run():\n",
    "    df = pd.read_csv(\"data/IBM.csv\")\n",
    "    # TODO: Your code here\n",
    "    # print(df.head())\n",
    "    df['High'].plot()\n",
    "    plt.ylabel(\"High\")\n",
    "    plt.xlabel(\"n-th day\")\n",
    "    plt.title(\"High prices for IBM\")\n",
    "    plt.show()  # must be called to show plots\n",
    "\n",
    "\n",
    "if __name__ == \"__main__\":\n",
    "    test_run()"
   ]
  },
  {
   "cell_type": "markdown",
   "id": "9f09a91b-c40a-427d-967f-fa50af4338e5",
   "metadata": {},
   "source": [
    "## Plot two columns"
   ]
  },
  {
   "cell_type": "code",
   "execution_count": 20,
   "id": "0c9801cb-909f-42b1-9dae-6eff17efe27d",
   "metadata": {},
   "outputs": [
    {
     "data": {
      "image/png": "[encoded data removed]",
      "text/plain": [
       "<Figure size 432x288 with 1 Axes>"
      ]
     },
     "metadata": {
      "needs_background": "light"
     },
     "output_type": "display_data"
    }
   ],
   "source": [
    "import pandas as pd\n",
    "import matplotlib.pyplot as plt\n",
    "\n",
    "def test_run():\n",
    "\tdf = pd.read_csv('data/AAPL.csv')\n",
    "\tdf[['Close', 'Adj Close']].plot()\n",
    "\tplt.show()    # must be called to show plots\n",
    "\n",
    "if __name__ == '__main__':\n",
    "\ttest_run()"
   ]
  },
  {
   "cell_type": "code",
   "execution_count": null,
   "id": "dd0c7a91-6b30-4594-9638-1cefdde2b088",
   "metadata": {},
   "outputs": [],
   "source": []
  }
 ],
 "metadata": {
  "kernelspec": {
   "display_name": "Python 3 (ipykernel)",
   "language": "python",
   "name": "python3"
  },
  "language_info": {
   "codemirror_mode": {
    "name": "ipython",
    "version": 3
   },
   "file_extension": ".py",
   "mimetype": "text/x-python",
   "name": "python",
   "nbconvert_exporter": "python",
   "pygments_lexer": "ipython3",
   "version": "3.8.12"
  }
 },
 "nbformat": 4,
 "nbformat_minor": 5
}
