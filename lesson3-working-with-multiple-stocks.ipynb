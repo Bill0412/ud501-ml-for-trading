{
 "cells": [
  {
   "cell_type": "markdown",
   "id": "c75260d4-297a-4e19-a8f7-715209f23fbd",
   "metadata": {},
   "source": [
    "# Lesson 3 Working with multipe stocks"
   ]
  },
  {
   "cell_type": "markdown",
   "id": "8634b8a6-797e-4177-8904-5f179f60f310",
   "metadata": {},
   "source": [
    "## Create an empty data frame"
   ]
  },
  {
   "cell_type": "code",
   "execution_count": 1,
   "id": "6d6f6b9a-4db8-47bb-87b1-c3667e168d1e",
   "metadata": {},
   "outputs": [
    {
     "name": "stdout",
     "output_type": "stream",
     "text": [
      "DatetimeIndex(['2010-01-22', '2010-01-23', '2010-01-24', '2010-01-25',\n",
      "               '2010-01-26'],\n",
      "              dtype='datetime64[ns]', freq='D')\n",
      "2010-01-22 00:00:00\n",
      "Empty DataFrame\n",
      "Columns: []\n",
      "Index: [2010-01-22 00:00:00, 2010-01-23 00:00:00, 2010-01-24 00:00:00, 2010-01-25 00:00:00, 2010-01-26 00:00:00]\n"
     ]
    }
   ],
   "source": [
    "import pandas as pd\n",
    "\n",
    "def test_run():\n",
    "    start_date = '2010-01-22'\n",
    "    end_date = '2010-01-26'\n",
    "    dates = pd.date_range(start_date, end_date)\n",
    "    print(dates)\n",
    "    print(dates[0])\n",
    "    df1 = pd.DataFrame(index=dates)\n",
    "    print(df1)\n",
    "\n",
    "\n",
    "if __name__ == '__main__':\n",
    "    test_run()"
   ]
  },
  {
   "cell_type": "markdown",
   "id": "0eab1331-7714-4b00-9fb2-0eba43555736",
   "metadata": {},
   "source": [
    "## Join SPY data"
   ]
  },
  {
   "cell_type": "code",
   "execution_count": 2,
   "id": "57ccbef2-5993-43dc-948d-a77d5777b61e",
   "metadata": {},
   "outputs": [
    {
     "name": "stdout",
     "output_type": "stream",
     "text": [
      "                  Open        High         Low       Close  Adj Close  \\\n",
      "2010-01-22  111.199997  111.739998  109.089996  109.209999  86.620804   \n",
      "2010-01-23         NaN         NaN         NaN         NaN        NaN   \n",
      "2010-01-24         NaN         NaN         NaN         NaN        NaN   \n",
      "2010-01-25  110.209999  110.410004  109.410004  109.769997  87.065025   \n",
      "2010-01-26  109.339996  110.470001  109.040001  109.309998  86.700111   \n",
      "\n",
      "                 Volume  \n",
      "2010-01-22  345942400.0  \n",
      "2010-01-23          NaN  \n",
      "2010-01-24          NaN  \n",
      "2010-01-25  186937500.0  \n",
      "2010-01-26  211168800.0  \n"
     ]
    }
   ],
   "source": [
    "import pandas as pd\n",
    "\n",
    "def test_run():\n",
    "    #Define data range\n",
    "    start_date = '2010-01-22'\n",
    "    end_date = '2010-01-26'\n",
    "    dates = pd.date_range(start_date, end_date)\n",
    "    \n",
    "    #Create an empty dataframe\n",
    "    df1 = pd.DataFrame(index=dates)\n",
    "    \n",
    "    #Read SPY data into temporary dataframe\n",
    "    # this uses integer as index, but df1 uses date\n",
    "    # dfSPY = pd.read_csv(\"data/SPY.csv\") \n",
    "    # so we should specify the index_col\n",
    "    dfSPY = pd.read_csv(\"data/SPY.csv\", index_col=\"Date\", parse_dates=True)\n",
    "    \n",
    "    #Join the two dataframes using DataFrame.join()\n",
    "    df1 = df1.join(dfSPY)\n",
    "    print(df1)\n",
    "    \n",
    "if __name__ == '__main__':\n",
    "    test_run()"
   ]
  },
  {
   "cell_type": "markdown",
   "id": "e55dd5f9-a167-4ff8-88c6-186aa734f3ff",
   "metadata": {},
   "source": [
    "To remove the NaN rows"
   ]
  },
  {
   "cell_type": "code",
   "execution_count": 3,
   "id": "65f91f14-eeb5-4bd2-a205-88bff1a696f5",
   "metadata": {},
   "outputs": [
    {
     "name": "stdout",
     "output_type": "stream",
     "text": [
      "            Adj Close\n",
      "2010-01-22  86.620804\n",
      "2010-01-25  87.065025\n",
      "2010-01-26  86.700111\n"
     ]
    }
   ],
   "source": [
    "import pandas as pd\n",
    "\n",
    "def test_run():\n",
    "    #Define data range\n",
    "    start_date = '2010-01-22'\n",
    "    end_date = '2010-01-26'\n",
    "    dates = pd.date_range(start_date, end_date)\n",
    "    \n",
    "    #Create an empty dataframe\n",
    "    df1 = pd.DataFrame(index=dates)\n",
    "    \n",
    "    #Read SPY data into temporary dataframe\n",
    "    # this uses integer as index, but df1 uses date\n",
    "    # dfSPY = pd.read_csv(\"data/SPY.csv\") \n",
    "    # so we should specify the index_col\n",
    "    dfSPY = pd.read_csv(\"data/SPY.csv\", index_col=\"Date\", \n",
    "                        parse_dates=True, usecols=['Date', 'Adj Close'],\n",
    "                        na_values=['nan'])\n",
    "    \n",
    "    #Join the two dataframes using DataFrame.join()\n",
    "    df1 = df1.join(dfSPY)\n",
    "    \n",
    "    #Drop NaN values\n",
    "    df1 = df1.dropna()\n",
    "    print(df1)\n",
    "    \n",
    "if __name__ == '__main__':\n",
    "    test_run()"
   ]
  },
  {
   "cell_type": "markdown",
   "id": "36e74f71-cc8c-461c-b2e9-fc438c36bef6",
   "metadata": {},
   "source": [
    "## Types of \"join\"\n",
    "\n",
    "We can use `inner` directly for the join parameter of the function `join` for the same purpose."
   ]
  },
  {
   "cell_type": "code",
   "execution_count": 4,
   "id": "2352e660-ca4f-4465-ad5a-356b7b02eb83",
   "metadata": {},
   "outputs": [
    {
     "name": "stdout",
     "output_type": "stream",
     "text": [
      "            Adj Close\n",
      "2010-01-22  86.620804\n",
      "2010-01-25  87.065025\n",
      "2010-01-26  86.700111\n"
     ]
    }
   ],
   "source": [
    "import pandas as pd\n",
    "\n",
    "def test_run():\n",
    "    #Define data range\n",
    "    start_date = '2010-01-22'\n",
    "    end_date = '2010-01-26'\n",
    "    dates = pd.date_range(start_date, end_date)\n",
    "    \n",
    "    #Create an empty dataframe\n",
    "    df1 = pd.DataFrame(index=dates)\n",
    "    \n",
    "    #Read SPY data into temporary dataframe\n",
    "    # this uses integer as index, but df1 uses date\n",
    "    # dfSPY = pd.read_csv(\"data/SPY.csv\") \n",
    "    # so we should specify the index_col\n",
    "    dfSPY = pd.read_csv(\"data/SPY.csv\", index_col=\"Date\", \n",
    "                        parse_dates=True, usecols=['Date', 'Adj Close'],\n",
    "                        na_values=['nan'])\n",
    "    \n",
    "    #Join the two dataframes using DataFrame.join()\n",
    "    df1 = df1.join(dfSPY, how='inner')\n",
    "    \n",
    "    # #Drop NaN values\n",
    "    # df1 = df1.dropna()\n",
    "    print(df1)\n",
    "    \n",
    "if __name__ == '__main__':\n",
    "    test_run()"
   ]
  },
  {
   "cell_type": "markdown",
   "id": "d9c835c3-87b0-462c-830a-e067d3664bef",
   "metadata": {},
   "source": [
    "## Read in more stocks"
   ]
  },
  {
   "cell_type": "code",
   "execution_count": 6,
   "id": "f701c09b-f758-45a5-8a46-55c7d877f9cb",
   "metadata": {},
   "outputs": [
    {
     "name": "stdout",
     "output_type": "stream",
     "text": [
      "                  SPY        GOOG        IBM         GLD\n",
      "2010-01-22  86.620804  273.978058  80.869118  107.169998\n",
      "2010-01-25  87.065025  268.991760  81.268616  107.480003\n",
      "2010-01-26  86.700111  270.197235  81.030205  107.559998\n"
     ]
    }
   ],
   "source": [
    "import pandas as pd\n",
    "\n",
    "def test_run():\n",
    "    #Define data range\n",
    "    start_date = '2010-01-22'\n",
    "    end_date = '2010-01-26'\n",
    "    dates = pd.date_range(start_date, end_date)\n",
    "    \n",
    "    #Create an empty dataframe\n",
    "    df1 = pd.DataFrame(index=dates)\n",
    "    \n",
    "    #Read SPY data into temporary dataframe\n",
    "    # this uses integer as index, but df1 uses date\n",
    "    # dfSPY = pd.read_csv(\"data/SPY.csv\") \n",
    "    # so we should specify the index_col\n",
    "    dfSPY = pd.read_csv(\"data/SPY.csv\", index_col=\"Date\", \n",
    "                        parse_dates=True, usecols=['Date', 'Adj Close'],\n",
    "                        na_values=['nan'])\n",
    "    \n",
    "    #Rename 'Adj Close' column to 'SPY' to prevent clash\n",
    "    dfSPY = dfSPY.rename(columns={'Adj Close': 'SPY'})\n",
    "    \n",
    "    #Join the two dataframes using DataFrame.join()\n",
    "    df1 = df1.join(dfSPY, how='inner')\n",
    "    \n",
    "    #Read in more stocks\n",
    "    symbols = ['GOOG', 'IBM', 'GLD']\n",
    "    for symbol in symbols:\n",
    "        df_temp = pd.read_csv(\"data/{}.csv\".format(symbol), index_col='Date',\n",
    "                             parse_dates=True, usecols=['Date', 'Adj Close'],\n",
    "                             na_values=['nan'])\n",
    "        # rename to prevent clash\n",
    "        df_temp = df_temp.rename(columns={'Adj Close': symbol})\n",
    "        \n",
    "        df1 = df1.join(df_temp)\n",
    "        \n",
    "    print(df1)\n",
    "    \n",
    "if __name__ == '__main__':\n",
    "    test_run()"
   ]
  }
 ],
 "metadata": {
  "kernelspec": {
   "display_name": "Python 3 (ipykernel)",
   "language": "python",
   "name": "python3"
  },
  "language_info": {
   "codemirror_mode": {
    "name": "ipython",
    "version": 3
   },
   "file_extension": ".py",
   "mimetype": "text/x-python",
   "name": "python",
   "nbconvert_exporter": "python",
   "pygments_lexer": "ipython3",
   "version": "3.8.12"
  }
 },
 "nbformat": 4,
 "nbformat_minor": 5
}
