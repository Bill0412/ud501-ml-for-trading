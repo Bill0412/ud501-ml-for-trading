{
 "cells": [
  {
   "cell_type": "markdown",
   "id": "c75260d4-297a-4e19-a8f7-715209f23fbd",
   "metadata": {},
   "source": [
    "# Lesson 3 Working with multipe stocks"
   ]
  },
  {
   "cell_type": "markdown",
   "id": "8634b8a6-797e-4177-8904-5f179f60f310",
   "metadata": {},
   "source": [
    "## Create an empty data frame"
   ]
  },
  {
   "cell_type": "code",
   "execution_count": 1,
   "id": "6d6f6b9a-4db8-47bb-87b1-c3667e168d1e",
   "metadata": {},
   "outputs": [
    {
     "name": "stdout",
     "output_type": "stream",
     "text": [
      "DatetimeIndex(['2010-01-22', '2010-01-23', '2010-01-24', '2010-01-25',\n",
      "               '2010-01-26'],\n",
      "              dtype='datetime64[ns]', freq='D')\n",
      "2010-01-22 00:00:00\n",
      "Empty DataFrame\n",
      "Columns: []\n",
      "Index: [2010-01-22 00:00:00, 2010-01-23 00:00:00, 2010-01-24 00:00:00, 2010-01-25 00:00:00, 2010-01-26 00:00:00]\n"
     ]
    }
   ],
   "source": [
    "import pandas as pd\n",
    "\n",
    "def test_run():\n",
    "    start_date = '2010-01-22'\n",
    "    end_date = '2010-01-26'\n",
    "    dates = pd.date_range(start_date, end_date)\n",
    "    print(dates)\n",
    "    print(dates[0])\n",
    "    df1 = pd.DataFrame(index=dates)\n",
    "    print(df1)\n",
    "\n",
    "\n",
    "if __name__ == '__main__':\n",
    "    test_run()"
   ]
  },
  {
   "cell_type": "markdown",
   "id": "0eab1331-7714-4b00-9fb2-0eba43555736",
   "metadata": {},
   "source": [
    "## Join SPY data"
   ]
  },
  {
   "cell_type": "code",
   "execution_count": 2,
   "id": "57ccbef2-5993-43dc-948d-a77d5777b61e",
   "metadata": {},
   "outputs": [
    {
     "name": "stdout",
     "output_type": "stream",
     "text": [
      "                  Open        High         Low       Close  Adj Close  \\\n",
      "2010-01-22  111.199997  111.739998  109.089996  109.209999  86.620804   \n",
      "2010-01-23         NaN         NaN         NaN         NaN        NaN   \n",
      "2010-01-24         NaN         NaN         NaN         NaN        NaN   \n",
      "2010-01-25  110.209999  110.410004  109.410004  109.769997  87.065025   \n",
      "2010-01-26  109.339996  110.470001  109.040001  109.309998  86.700111   \n",
      "\n",
      "                 Volume  \n",
      "2010-01-22  345942400.0  \n",
      "2010-01-23          NaN  \n",
      "2010-01-24          NaN  \n",
      "2010-01-25  186937500.0  \n",
      "2010-01-26  211168800.0  \n"
     ]
    }
   ],
   "source": [
    "import pandas as pd\n",
    "\n",
    "def test_run():\n",
    "    #Define data range\n",
    "    start_date = '2010-01-22'\n",
    "    end_date = '2010-01-26'\n",
    "    dates = pd.date_range(start_date, end_date)\n",
    "    \n",
    "    #Create an empty dataframe\n",
    "    df1 = pd.DataFrame(index=dates)\n",
    "    \n",
    "    #Read SPY data into temporary dataframe\n",
    "    # this uses integer as index, but df1 uses date\n",
    "    # dfSPY = pd.read_csv(\"data/SPY.csv\") \n",
    "    # so we should specify the index_col\n",
    "    dfSPY = pd.read_csv(\"data/SPY.csv\", index_col=\"Date\", parse_dates=True)\n",
    "    \n",
    "    #Join the two dataframes using DataFrame.join()\n",
    "    df1 = df1.join(dfSPY)\n",
    "    print(df1)\n",
    "    \n",
    "if __name__ == '__main__':\n",
    "    test_run()"
   ]
  },
  {
   "cell_type": "markdown",
   "id": "e55dd5f9-a167-4ff8-88c6-186aa734f3ff",
   "metadata": {},
   "source": [
    "To remove the NaN rows"
   ]
  },
  {
   "cell_type": "code",
   "execution_count": 3,
   "id": "65f91f14-eeb5-4bd2-a205-88bff1a696f5",
   "metadata": {},
   "outputs": [
    {
     "name": "stdout",
     "output_type": "stream",
     "text": [
      "            Adj Close\n",
      "2010-01-22  86.620804\n",
      "2010-01-25  87.065025\n",
      "2010-01-26  86.700111\n"
     ]
    }
   ],
   "source": [
    "import pandas as pd\n",
    "\n",
    "def test_run():\n",
    "    #Define data range\n",
    "    start_date = '2010-01-22'\n",
    "    end_date = '2010-01-26'\n",
    "    dates = pd.date_range(start_date, end_date)\n",
    "    \n",
    "    #Create an empty dataframe\n",
    "    df1 = pd.DataFrame(index=dates)\n",
    "    \n",
    "    #Read SPY data into temporary dataframe\n",
    "    # this uses integer as index, but df1 uses date\n",
    "    # dfSPY = pd.read_csv(\"data/SPY.csv\") \n",
    "    # so we should specify the index_col\n",
    "    dfSPY = pd.read_csv(\"data/SPY.csv\", index_col=\"Date\", \n",
    "                        parse_dates=True, usecols=['Date', 'Adj Close'],\n",
    "                        na_values=['nan'])\n",
    "    \n",
    "    #Join the two dataframes using DataFrame.join()\n",
    "    df1 = df1.join(dfSPY)\n",
    "    \n",
    "    #Drop NaN values\n",
    "    df1 = df1.dropna()\n",
    "    print(df1)\n",
    "    \n",
    "if __name__ == '__main__':\n",
    "    test_run()"
   ]
  },
  {
   "cell_type": "markdown",
   "id": "36e74f71-cc8c-461c-b2e9-fc438c36bef6",
   "metadata": {},
   "source": [
    "## Types of \"join\"\n",
    "\n",
    "We can use `inner` directly for the join parameter of the function `join` for the same purpose."
   ]
  },
  {
   "cell_type": "code",
   "execution_count": 4,
   "id": "2352e660-ca4f-4465-ad5a-356b7b02eb83",
   "metadata": {},
   "outputs": [
    {
     "name": "stdout",
     "output_type": "stream",
     "text": [
      "            Adj Close\n",
      "2010-01-22  86.620804\n",
      "2010-01-25  87.065025\n",
      "2010-01-26  86.700111\n"
     ]
    }
   ],
   "source": [
    "import pandas as pd\n",
    "\n",
    "def test_run():\n",
    "    #Define data range\n",
    "    start_date = '2010-01-22'\n",
    "    end_date = '2010-01-26'\n",
    "    dates = pd.date_range(start_date, end_date)\n",
    "    \n",
    "    #Create an empty dataframe\n",
    "    df1 = pd.DataFrame(index=dates)\n",
    "    \n",
    "    #Read SPY data into temporary dataframe\n",
    "    # this uses integer as index, but df1 uses date\n",
    "    # dfSPY = pd.read_csv(\"data/SPY.csv\") \n",
    "    # so we should specify the index_col\n",
    "    dfSPY = pd.read_csv(\"data/SPY.csv\", index_col=\"Date\", \n",
    "                        parse_dates=True, usecols=['Date', 'Adj Close'],\n",
    "                        na_values=['nan'])\n",
    "    \n",
    "    #Join the two dataframes using DataFrame.join()\n",
    "    df1 = df1.join(dfSPY, how='inner')\n",
    "    \n",
    "    # #Drop NaN values\n",
    "    # df1 = df1.dropna()\n",
    "    print(df1)\n",
    "    \n",
    "if __name__ == '__main__':\n",
    "    test_run()"
   ]
  },
  {
   "cell_type": "markdown",
   "id": "d9c835c3-87b0-462c-830a-e067d3664bef",
   "metadata": {},
   "source": [
    "## Read in more stocks"
   ]
  },
  {
   "cell_type": "code",
   "execution_count": 5,
   "id": "f701c09b-f758-45a5-8a46-55c7d877f9cb",
   "metadata": {},
   "outputs": [
    {
     "name": "stdout",
     "output_type": "stream",
     "text": [
      "                  SPY        GOOG        IBM         GLD\n",
      "2010-01-22  86.620804  273.978058  80.869118  107.169998\n",
      "2010-01-25  87.065025  268.991760  81.268616  107.480003\n",
      "2010-01-26  86.700111  270.197235  81.030205  107.559998\n"
     ]
    }
   ],
   "source": [
    "import pandas as pd\n",
    "\n",
    "def test_run():\n",
    "    #Define data range\n",
    "    start_date = '2010-01-22'\n",
    "    end_date = '2010-01-26'\n",
    "    dates = pd.date_range(start_date, end_date)\n",
    "    \n",
    "    #Create an empty dataframe\n",
    "    df1 = pd.DataFrame(index=dates)\n",
    "    \n",
    "    #Read SPY data into temporary dataframe\n",
    "    # this uses integer as index, but df1 uses date\n",
    "    # dfSPY = pd.read_csv(\"data/SPY.csv\") \n",
    "    # so we should specify the index_col\n",
    "    dfSPY = pd.read_csv(\"data/SPY.csv\", index_col=\"Date\", \n",
    "                        parse_dates=True, usecols=['Date', 'Adj Close'],\n",
    "                        na_values=['nan'])\n",
    "    \n",
    "    #Rename 'Adj Close' column to 'SPY' to prevent clash\n",
    "    dfSPY = dfSPY.rename(columns={'Adj Close': 'SPY'})\n",
    "    \n",
    "    #Join the two dataframes using DataFrame.join()\n",
    "    df1 = df1.join(dfSPY, how='inner')\n",
    "    \n",
    "    #Read in more stocks\n",
    "    symbols = ['GOOG', 'IBM', 'GLD']\n",
    "    for symbol in symbols:\n",
    "        df_temp = pd.read_csv(\"data/{}.csv\".format(symbol), index_col='Date',\n",
    "                             parse_dates=True, usecols=['Date', 'Adj Close'],\n",
    "                             na_values=['nan'])\n",
    "        # rename to prevent clash\n",
    "        df_temp = df_temp.rename(columns={'Adj Close': symbol})\n",
    "        \n",
    "        df1 = df1.join(df_temp)\n",
    "        \n",
    "    print(df1)\n",
    "    \n",
    "if __name__ == '__main__':\n",
    "    test_run()"
   ]
  },
  {
   "cell_type": "markdown",
   "id": "4b69c96b-f562-4e41-b217-cf7443a594f0",
   "metadata": {},
   "source": [
    "## Utility functions for reading data"
   ]
  },
  {
   "cell_type": "code",
   "execution_count": 6,
   "id": "6fbcecb2-7fb8-427f-8b40-20ef06281d3b",
   "metadata": {},
   "outputs": [
    {
     "name": "stdout",
     "output_type": "stream",
     "text": [
      "                  SPY        GOOG        IBM         GLD\n",
      "2010-01-22  86.620804  273.978058  80.869118  107.169998\n",
      "2010-01-25  87.065025  268.991760  81.268616  107.480003\n",
      "2010-01-26  86.700111  270.197235  81.030205  107.559998\n"
     ]
    }
   ],
   "source": [
    "\"\"\"Utility functions\"\"\"\n",
    "\n",
    "import os\n",
    "import pandas as pd\n",
    "\n",
    "def symbol_to_path(symbol, base_dir=\"data\"):\n",
    "    \"\"\"Return CSV file path given ticker symbol.\"\"\"\n",
    "    return os.path.join(base_dir, \"{}.csv\".format(str(symbol)))\n",
    "\n",
    "\n",
    "def get_data(symbols, dates):\n",
    "    \"\"\"Read stock data (adjusted close) for given symbols from CSV files.\"\"\"\n",
    "    df = pd.DataFrame(index=dates)\n",
    "    if 'SPY' not in symbols:  # add SPY for reference, if absent\n",
    "        symbols.insert(0, 'SPY')\n",
    "\n",
    "    for symbol in symbols:\n",
    "        # TODO: Read and join data for each symbol\n",
    "        df_temp = pd.read_csv(symbol_to_path(symbol).format(symbol), index_col='Date',\n",
    "                             parse_dates=True, usecols=['Date', 'Adj Close'],\n",
    "                             na_values=['nan'])\n",
    "        # rename to prevent clash\n",
    "        df_temp = df_temp.rename(columns={'Adj Close': symbol})\n",
    "        df = df.join(df_temp)\n",
    "        if symbol == 'SPY':\n",
    "            df = df.dropna(subset=[\"SPY\"])\n",
    "        \n",
    "    return df.sort_index()\n",
    "\n",
    "\n",
    "def test_run():\n",
    "    # Define a date range\n",
    "    dates = pd.date_range('2010-01-22', '2010-01-26')\n",
    "\n",
    "    # Choose stock symbols to read\n",
    "    symbols = ['GOOG', 'IBM', 'GLD']\n",
    "    \n",
    "    # Get stock data\n",
    "    df = get_data(symbols, dates)\n",
    "    print(df)\n",
    "\n",
    "\n",
    "if __name__ == \"__main__\":\n",
    "    test_run()\n"
   ]
  },
  {
   "cell_type": "code",
   "execution_count": 15,
   "id": "7117ce87-4dc1-4ae3-b02a-7cce4e497a57",
   "metadata": {},
   "outputs": [
    {
     "name": "stdout",
     "output_type": "stream",
     "text": [
      "                  SPY        GOOG        IBM         GLD\n",
      "2010-01-04  89.888641  312.204773  85.347488  109.800003\n",
      "2010-01-05  90.126572  310.829926  84.316521  109.699997\n",
      "2010-01-06  90.190048  302.994293  83.768784  111.510002\n",
      "2010-01-07  90.570763  295.940735  83.478790  110.820000\n",
      "2010-01-08  90.872154  299.885956  84.316521  111.370003\n",
      "2010-01-11  90.999054  299.432648  83.433693  112.849998\n",
      "2010-01-12  90.150398  294.137512  84.097443  110.489998\n",
      "2010-01-13  90.911835  292.448822  83.916992  111.540001\n",
      "2010-01-14  91.157684  293.823669  85.257294  112.029999\n",
      "2010-01-15  90.134552  288.917053  84.915756  110.860001\n",
      "2010-01-19  91.260788  292.712830  86.436485  111.519997\n",
      "2010-01-20  90.332832  289.121307  83.929886  108.940002\n",
      "2010-01-21  88.595795  290.401489  83.124420  107.370003\n",
      "2010-01-22  86.620804  273.978058  80.869118  107.169998\n",
      "2010-01-25  87.065025  268.991760  81.268616  107.480003\n",
      "2010-01-26  86.700111  270.197235  81.030205  107.559998\n",
      "2010-01-27  87.112572  270.037842  81.403961  106.529999\n",
      "2010-01-28  86.113197  266.147400  79.741440  106.480003\n",
      "2010-01-29  85.177277  263.980530  78.865074  105.959999\n",
      "2010-01-04    312.204773\n",
      "2010-01-05    310.829926\n",
      "2010-01-06    302.994293\n",
      "2010-01-07    295.940735\n",
      "2010-01-08    299.885956\n",
      "                 ...    \n",
      "2010-12-27    300.065277\n",
      "2010-12-28    298.341736\n",
      "2010-12-29    299.377869\n",
      "2010-12-30    298.311859\n",
      "2010-12-31    295.875977\n",
      "Name: GOOG, Length: 252, dtype: float64\n",
      "                  IBM         GLD\n",
      "2010-01-04  85.347488  109.800003\n",
      "2010-01-05  84.316521  109.699997\n",
      "2010-01-06  83.768784  111.510002\n",
      "2010-01-07  83.478790  110.820000\n",
      "2010-01-08  84.316521  111.370003\n",
      "...               ...         ...\n",
      "2010-12-27  95.445358  135.020004\n",
      "2010-12-28  95.688347  137.220001\n",
      "2010-12-29  96.220268  137.710007\n",
      "2010-12-30  96.318771  137.029999\n",
      "2010-12-31  96.377838  138.720001\n",
      "\n",
      "[252 rows x 2 columns]\n",
      "                  SPY        IBM\n",
      "2010-03-10  91.189423  81.308479\n",
      "2010-03-11  91.570129  82.590027\n",
      "2010-03-12  91.578064  82.810097\n",
      "2010-03-15  91.601868  82.738914\n"
     ]
    }
   ],
   "source": [
    "def test_run():\n",
    "    # Define a date range\n",
    "    dates = pd.date_range('2010-01-01', '2010-12-31') # the year 2010\n",
    "    \n",
    "    # Chose stock symbols to read\n",
    "    symbols = ['GOOG', 'IBM', 'GLD'] # SPY will be added in get_date()\n",
    "    \n",
    "    # Get stock data\n",
    "    df = get_data(symbols, dates)\n",
    "    \n",
    "    # Slice by row range(dates) using DataFrame.ix[] selector\n",
    "    print(df['2010-01-01':'2010-01-31']) # the month of January\n",
    "    \n",
    "    # Slice by column (symbols)\n",
    "    print(df['GOOG']);\n",
    "    print(df[['IBM', 'GLD']])\n",
    "    \n",
    "    # Slice by row and column\n",
    "    print(df.loc['2010-03-10':'2010-03-15', ['SPY', 'IBM']])\n",
    "    \n",
    "test_run()\n",
    "     "
   ]
  },
  {
   "cell_type": "code",
   "execution_count": null,
   "id": "511c9f40-caec-4274-a2ca-279901d2c743",
   "metadata": {},
   "outputs": [],
   "source": []
  }
 ],
 "metadata": {
  "kernelspec": {
   "display_name": "Python 3 (ipykernel)",
   "language": "python",
   "name": "python3"
  },
  "language_info": {
   "codemirror_mode": {
    "name": "ipython",
    "version": 3
   },
   "file_extension": ".py",
   "mimetype": "text/x-python",
   "name": "python",
   "nbconvert_exporter": "python",
   "pygments_lexer": "ipython3",
   "version": "3.8.12"
  }
 },
 "nbformat": 4,
 "nbformat_minor": 5
}
